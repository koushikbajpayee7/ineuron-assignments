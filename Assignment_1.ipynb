{
 "cells": [
  {
   "cell_type": "raw",
   "id": "412389bc",
   "metadata": {},
   "source": [
    "# Q1. What is the purpose of Python OOPS?\n",
    "In Python, object-oriented Programming (OOPs) is a programming paradigm that uses objects and classes in programming. It aims to implement real-world entities like inheritance, polymorphisms, encapsulation, etc. in the programming. The main concept of OOPs is to bind the data and the functions that work on that together as a single unit so that no other part of the code can access this data.\n",
    "\n",
    "Main Concepts of Object-Oriented Programming (OOPs) \n",
    "Class\n",
    "Objects\n",
    "Polymorphism\n",
    "Encapsulation\n",
    "Inheritance\n",
    "Data Abstraction"
   ]
  },
  {
   "cell_type": "raw",
   "id": "db631e40",
   "metadata": {},
   "source": [
    "##Q2. Where does an inheritance search look for an attribute?\n",
    "The whole point of a namespace tool like the class statement is to support name inheritance. In Python, inheritance happens when an object is qualified, and involves searching an attribute definition tree (one or more namespaces). Every time you use an expression of the form object."
   ]
  },
  {
   "cell_type": "markdown",
   "id": "6677e79a",
   "metadata": {},
   "source": [
    "# Q4. What makes the first argument in a class’s method function special?\n",
    "The first argument of every class method, including init, is always a reference to the current instance of the class. By convention, this argument is always named self. In the init method, self refers to the newly created object; in other class methods, it refers to the instance whose method was called."
   ]
  },
  {
   "cell_type": "markdown",
   "id": "33e06602",
   "metadata": {},
   "source": [
    "# Q5. What is the purpose of the __init__ method?\n",
    "The Default __init__ Constructor in C++ and Java. Constructors are used to initializing the object’s state. The task of constructors is to initialize(assign values) to the data members of the class when an object of the class is created. Like methods, a constructor also contains a collection of statements(i.e. instructions) that are executed at the time of Object creation. It is run as soon as an object of a class is instantiated. The method is useful to do any initialization you want to do with your object.\n",
    "\n",
    "Example: \n",
    "\n",
    "# A Sample class with init method\n",
    "class Person:\n",
    " \n",
    "    # init method or constructor\n",
    "    def __init__(self, name):\n",
    "        self.name = name\n",
    " \n",
    "    # Sample Method\n",
    "    def say_hi(self):\n",
    "        print('Hello, my name is', self.name)\n",
    " \n",
    " \n",
    "p = Person('Nikhil')\n",
    "\n",
    "p.say_hi()"
   ]
  },
  {
   "cell_type": "raw",
   "id": "4fe9bfc2",
   "metadata": {},
   "source": [
    "# Q6. What is the process for creating a class instance?\n",
    "A class needs to be instantiated if we want to use the class attributes in another class or method. A class can be instantiated by calling the class using the class name.\n",
    "\n",
    "The syntax to create the instance of the class is given below.\n",
    "\n",
    "<object-name> = <class-name>(<arguments>)    \n",
    "The following example creates the instance of the class Employee defined in the above example.\n",
    "\n",
    "Example\n",
    "\n",
    "class Employee:    \n",
    "    id = 10   \n",
    "    name = \"John\"    \n",
    "    def display (self):    \n",
    "        print(\"ID: %d \\nName: %s\"%(self.id,self.name))    \n",
    "# Creating a emp instance of Employee class  \n",
    "emp = Employee()    \n",
    "emp.display()    "
   ]
  },
  {
   "cell_type": "raw",
   "id": "5871b749",
   "metadata": {},
   "source": [
    "# Q7. What is the process for creating a class?\n",
    "n Python, a class can be created by using the keyword class, followed by the class name. The syntax to create a class is given below.\n",
    "\n",
    "Syntax\n",
    "\n",
    "class ClassName:    \n",
    "    #statement_suite     \n",
    "In Python, we must notice that each class is associated with a documentation string which can be accessed by using <class-name>.__doc__. A class contains a statement suite including fields, constructor, function, etc. definition.\n",
    "Consider the following example to create a class Employee which contains two fields as Employee id, and name.\n",
    "\n",
    "The class also contains a function display(), which is used to display the information of the Employee.\n",
    "\n",
    "Example\n",
    "\n",
    "class Employee:    \n",
    "    id = 10   \n",
    "    name = \"Devansh\"    \n",
    "    def display (self):    \n",
    "        print(self.id,self.name)    \n",
    "Here, the self is used as a reference variable, which refers to the current class object. It is always the first argument in the function definition. However, using self is optional in the function call.\n",
    "\n",
    "The self-parameter\n",
    "The self-parameter refers to the current instance of the class and accesses the class variables. We can use anything instead of self, but it must be the first parameter of any function which belongs to the class.\n",
    "\n"
   ]
  },
  {
   "cell_type": "markdown",
   "id": "bb00c059",
   "metadata": {},
   "source": [
    "# Q8. How would you define the superclasses of a class?\n",
    "A superclass is the class from which many subclasses can be created. The subclasses inherit the characteristics of a superclass. The superclass is also known as the parent class or base class. In the above example, Vehicle is the Superclass and its subclasses are Car, Truck and Motorcycle."
   ]
  },
  {
   "cell_type": "code",
   "execution_count": null,
   "id": "d055fe60",
   "metadata": {},
   "outputs": [],
   "source": []
  }
 ],
 "metadata": {
  "kernelspec": {
   "display_name": "Python 3",
   "language": "python",
   "name": "python3"
  },
  "language_info": {
   "codemirror_mode": {
    "name": "ipython",
    "version": 3
   },
   "file_extension": ".py",
   "mimetype": "text/x-python",
   "name": "python",
   "nbconvert_exporter": "python",
   "pygments_lexer": "ipython3",
   "version": "3.8.8"
  }
 },
 "nbformat": 4,
 "nbformat_minor": 5
}
