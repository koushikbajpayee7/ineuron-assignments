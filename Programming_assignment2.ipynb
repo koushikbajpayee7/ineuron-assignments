{
 "cells": [
  {
   "cell_type": "code",
   "execution_count": 3,
   "id": "2a2f3596",
   "metadata": {},
   "outputs": [
    {
     "name": "stdout",
     "output_type": "stream",
     "text": [
      "Enter the value in kilometer5\n",
      "5.00 kilometers is equal to 3.11 miles\n"
     ]
    }
   ],
   "source": [
    "#1. Write a Python program to convert kilometers to miles?\n",
    "kilometers = float(input('Enter the value in kilometer'))\n",
    "convert_fact = 0.621371\n",
    "miles = kilometers * convert_fact\n",
    "print('%0.2f kilometers is equal to %0.2f miles'%(kilometers,miles))"
   ]
  },
  {
   "cell_type": "code",
   "execution_count": 5,
   "id": "cd97f69c",
   "metadata": {},
   "outputs": [
    {
     "name": "stdout",
     "output_type": "stream",
     "text": [
      "Enter the temp in celcius:37.5\n",
      "37.50 Celsius is equal to 99.50 Fahrenheit\n"
     ]
    }
   ],
   "source": [
    "#2. Write a Python program to convert Celsius to Fahrenheit?\n",
    "Celsius = float(input('Enter the temp in celcius:'))\n",
    "Fahrenheit= (Celsius*1.8)+32\n",
    "print('%0.2f Celsius is equal to %0.2f Fahrenheit'%(Celsius,Fahrenheit))"
   ]
  },
  {
   "cell_type": "code",
   "execution_count": 9,
   "id": "274b8a04",
   "metadata": {},
   "outputs": [
    {
     "name": "stdout",
     "output_type": "stream",
     "text": [
      "Enter the year:2023\n",
      "Enter the month:12\n",
      "   December 2023\n",
      "Mo Tu We Th Fr Sa Su\n",
      "             1  2  3\n",
      " 4  5  6  7  8  9 10\n",
      "11 12 13 14 15 16 17\n",
      "18 19 20 21 22 23 24\n",
      "25 26 27 28 29 30 31\n",
      "\n"
     ]
    }
   ],
   "source": [
    "#3. Write a Python program to display calendar?\n",
    "import calendar\n",
    "yy = int(input('Enter the year:'))\n",
    "mm= int(input('Enter the month:'))\n",
    "print(calendar.month(yy,mm))"
   ]
  },
  {
   "cell_type": "code",
   "execution_count": 14,
   "id": "77dc963e",
   "metadata": {},
   "outputs": [
    {
     "name": "stdout",
     "output_type": "stream",
     "text": [
      "Enter the number:1\n",
      "Enter the number:5\n",
      "Enter the number:6\n",
      "The solution of (-3+0j) and (-2+0j)\n"
     ]
    }
   ],
   "source": [
    "#4. Write a Python program to solve quadratic equation?\n",
    "import cmath\n",
    "a = int(input('Enter the number:'))\n",
    "b = int(input('Enter the number:'))\n",
    "c = int(input('Enter the number:'))\n",
    "\n",
    "d=(b**2)-(4*a*c)\n",
    "sol1 = (-b-cmath.sqrt(d))/(2*a)\n",
    "sol2 = (-b+cmath.sqrt(d))/(2*a)\n",
    "\n",
    "print('The solution of {0} and {1}'.format(sol1,sol2))\n"
   ]
  },
  {
   "cell_type": "code",
   "execution_count": 16,
   "id": "4cf4bcd9",
   "metadata": {},
   "outputs": [
    {
     "name": "stdout",
     "output_type": "stream",
     "text": [
      "Enter the first number:5\n",
      "Enter the second number:6\n",
      "The numbers after swap is 6 and 5\n"
     ]
    }
   ],
   "source": [
    "#5.Write a Python program to swap two variables without temp variable?\n",
    "a= int(input('Enter the first number:'))\n",
    "b= int(input('Enter the second number:'))\n",
    "a,b=b,a\n",
    "print('The numbers after swap is {0} and {1}'.format(a,b))"
   ]
  },
  {
   "cell_type": "code",
   "execution_count": null,
   "id": "6d50db7d",
   "metadata": {},
   "outputs": [],
   "source": []
  }
 ],
 "metadata": {
  "kernelspec": {
   "display_name": "Python 3 (ipykernel)",
   "language": "python",
   "name": "python3"
  },
  "language_info": {
   "codemirror_mode": {
    "name": "ipython",
    "version": 3
   },
   "file_extension": ".py",
   "mimetype": "text/x-python",
   "name": "python",
   "nbconvert_exporter": "python",
   "pygments_lexer": "ipython3",
   "version": "3.9.6"
  }
 },
 "nbformat": 4,
 "nbformat_minor": 5
}
