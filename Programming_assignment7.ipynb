{
 "cells": [
  {
   "cell_type": "code",
   "execution_count": 2,
   "id": "b57762fd",
   "metadata": {},
   "outputs": [
    {
     "name": "stdout",
     "output_type": "stream",
     "text": [
      "Sum of the array is  34\n"
     ]
    }
   ],
   "source": [
    "#1. Write a Python Program to find sum of array?\n",
    "# Python 3 code to find sum\n",
    "# of elements in given array\n",
    "def _sum(arr):\n",
    "    # initialize a variable\n",
    "    # to store the sum\n",
    "    # while iterating through\n",
    "    # the array later\n",
    "    sum=0\n",
    "    \n",
    "    # iterate through the array\n",
    "    # and add each element to the sum variable\n",
    "    # one at a time\n",
    "    for i in arr:\n",
    "        sum = sum + i\n",
    "        \n",
    "    return(sum)\n",
    "\n",
    "# driver function\n",
    "arr=[]\n",
    "# input values to list\n",
    "arr = [12, 3, 4, 15]\n",
    "\n",
    "# calculating length of array\n",
    "n = len(arr)\n",
    "\n",
    "ans = _sum(arr)\n",
    "\n",
    "# display sum\n",
    "print ('Sum of the array is ', ans)\n",
    "\n"
   ]
  },
  {
   "cell_type": "code",
   "execution_count": 21,
   "id": "b7e50c92",
   "metadata": {},
   "outputs": [
    {
     "name": "stdout",
     "output_type": "stream",
     "text": [
      "Largest in given array is 9808\n"
     ]
    }
   ],
   "source": [
    "def largest(arr,n):\n",
    "    # Initialize maximum element\n",
    "    max = arr[0]\n",
    "    \n",
    "    # Traverse array elements from second\n",
    "    # and compare every element with \n",
    "    # current max\n",
    "    for i in range(1,n):\n",
    "        if arr[i] > max:\n",
    "            max = arr[i]\n",
    "    return max\n",
    "# Driver Code\n",
    "arr = [10,32,45,90,9808]\n",
    "n = len(arr)\n",
    "Ans = largest(arr,n)\n",
    "print('Largest in given array is',Ans)\n",
    "        "
   ]
  },
  {
   "cell_type": "code",
   "execution_count": 22,
   "id": "eebc0bdf",
   "metadata": {},
   "outputs": [
    {
     "name": "stdout",
     "output_type": "stream",
     "text": [
      "Object `rotation` not found.\n",
      "Array after left rotation is:  [3, 4, 5, 6, 7, 1, 2]\n"
     ]
    }
   ],
   "source": [
    "#3. Write a Python Program for array rotation?\n",
    "# function to rotate array by d elements using temp array\n",
    "def rotateArray(arr, n, d):\n",
    "    temp = []\n",
    "    i = 0\n",
    "    while (i < d):\n",
    "        temp.append(arr[i])\n",
    "        i = i + 1\n",
    "    i = 0\n",
    "    while (d < n):\n",
    "        arr[i] = arr[d]\n",
    "        i = i + 1\n",
    "        d = d + 1\n",
    "    arr[:] = arr[: i] + temp\n",
    "    return arr\n",
    "\n",
    "\n",
    "# Driver function to test above function\n",
    "arr = [1, 2, 3, 4, 5, 6, 7]\n",
    "print(\"Array after left rotation is: \", end=' ')\n",
    "print(rotateArray(arr, len(arr), 2))\n",
    "\n",
    "\n"
   ]
  },
  {
   "cell_type": "code",
   "execution_count": 23,
   "id": "968a8d12",
   "metadata": {},
   "outputs": [
    {
     "name": "stdout",
     "output_type": "stream",
     "text": [
      "5 6 52 36 12 10 "
     ]
    }
   ],
   "source": [
    "#4. Write a Python Program to Split the array and add the first part to the end?\n",
    "# Python program to split array and move first\n",
    "# part to end.\n",
    "\n",
    "def splitArr(arr, n, k):\n",
    "    for i in range(0, k):\n",
    "        x = arr[0]\n",
    "        for j in range(0, n-1):\n",
    "            arr[j] = arr[j + 1]\n",
    "        \n",
    "        arr[n-1] = x\n",
    "        \n",
    "\n",
    "# main\n",
    "arr = [12, 10, 5, 6, 52, 36]\n",
    "n = len(arr)\n",
    "position = 2\n",
    "\n",
    "splitArr(arr, n, position)\n",
    "\n",
    "for i in range(0, n):\n",
    "    print(arr[i], end = ' ')\n",
    "\n",
    "\n"
   ]
  },
  {
   "cell_type": "code",
   "execution_count": 24,
   "id": "07fce893",
   "metadata": {},
   "outputs": [
    {
     "name": "stdout",
     "output_type": "stream",
     "text": [
      "True\n"
     ]
    }
   ],
   "source": [
    "#5. Write a Python Program to check if given array is Monotonic?\n",
    "# Python3 program to find sum in Nth group\n",
    "\n",
    "# Check if given array is Monotonic\n",
    "def isMonotonic(A):\n",
    "\n",
    "\treturn (all(A[i] <= A[i + 1] for i in range(len(A) - 1)) or\n",
    "\t\t\tall(A[i] >= A[i + 1] for i in range(len(A) - 1)))\n",
    "\n",
    "# Driver program\n",
    "A = [6, 5, 4, 4]\n",
    "\n",
    "# Print required result\n",
    "print(isMonotonic(A))\n",
    "\n"
   ]
  },
  {
   "cell_type": "code",
   "execution_count": null,
   "id": "b7820560",
   "metadata": {},
   "outputs": [],
   "source": []
  }
 ],
 "metadata": {
  "kernelspec": {
   "display_name": "Python 3",
   "language": "python",
   "name": "python3"
  },
  "language_info": {
   "codemirror_mode": {
    "name": "ipython",
    "version": 3
   },
   "file_extension": ".py",
   "mimetype": "text/x-python",
   "name": "python",
   "nbconvert_exporter": "python",
   "pygments_lexer": "ipython3",
   "version": "3.8.8"
  }
 },
 "nbformat": 4,
 "nbformat_minor": 5
}
