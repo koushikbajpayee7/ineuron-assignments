{
 "cells": [
  {
   "cell_type": "markdown",
   "id": "80925571",
   "metadata": {},
   "source": [
    "# 1. What does an empty dictionarys code look like?\n",
    "an empty dictionarys code looks like set"
   ]
  },
  {
   "cell_type": "code",
   "execution_count": 7,
   "id": "d49438c4",
   "metadata": {},
   "outputs": [
    {
     "data": {
      "text/plain": [
       "dict_values([42])"
      ]
     },
     "execution_count": 7,
     "metadata": {},
     "output_type": "execute_result"
    }
   ],
   "source": [
    "# 2. What is the value of a dictionary value with the key foo; and the value 42?\n",
    "d = {'foo': 42}\n",
    "d.values()"
   ]
  },
  {
   "cell_type": "markdown",
   "id": "04205270",
   "metadata": {},
   "source": [
    "# 3. What is the most significant distinction between a dictionary and a list?\n",
    "A list is an ordered sequence of objects, whereas dictionaries are unordered sets. However, the main difference is that items in dictionaries are accessed via keys and not via their position.and aitems in lists are accessed via index."
   ]
  },
  {
   "cell_type": "markdown",
   "id": "de4b5744",
   "metadata": {},
   "source": [
    "# 4. What happens if you try to access spam['foo'] if spam is{'bar': 100}\n",
    "spam = {'bar' : 100}\n",
    "\n",
    "spam['foo']\n",
    "\n",
    "It will give key error"
   ]
  },
  {
   "cell_type": "markdown",
   "id": "5db4d440",
   "metadata": {},
   "source": [
    "# 5. If a dictionary is stored in spam, what is the difference between the expressions cat in spam and cat in spam.keys()?\n",
    "spam = {'cat' : 'spam'}\n",
    "#here cat is my key and Tommy is my value.\n",
    "'cat' in spam\n",
    "'cat' in spam.keys()\n",
    "There is no difference. The in operator checks whether a value exists as a key in the dictionary. 'cat' in spam checks whether there is a 'cat' key in the dictionary, while 'cat' in spam. values() checks whether there is a value 'cat' for one of the keys in spam . "
   ]
  },
  {
   "cell_type": "markdown",
   "id": "0f767b33",
   "metadata": {},
   "source": [
    "# 6. If a dictionary is stored in spam, what is the difference between the expressions cat in spam and cat in spam.values()?\n",
    "spam ={'cat': 'Tommy'}\n",
    "#'cat' in spam.values()\n",
    "'cat' in spam\n",
    "The in operator checks whether a value exists as a key in the dictionary. 'cat' in spam checks whether there is a 'cat' key in the dictionary, while 'cat' in spam. values() checks whether there is a value 'cat' for one of the keys in spam ."
   ]
  },
  {
   "cell_type": "code",
   "execution_count": null,
   "id": "752ea610",
   "metadata": {},
   "outputs": [],
   "source": []
  },
  {
   "cell_type": "markdown",
   "id": "41721a95",
   "metadata": {},
   "source": [
    "# 8. How do you \"pretty print\" dictionary values using which module and function?\n",
    "Use pprint() to Pretty Print a Dictionary in Python\n",
    "\n",
    "Within the pprint module there is a function with the same name pprint() , which is the function used to pretty-print the given string or object. First, declare an array of dictionaries. Afterward, pretty print it using the function pprint."
   ]
  },
  {
   "cell_type": "code",
   "execution_count": null,
   "id": "4d1d7060",
   "metadata": {},
   "outputs": [],
   "source": []
  }
 ],
 "metadata": {
  "kernelspec": {
   "display_name": "Python 3",
   "language": "python",
   "name": "python3"
  },
  "language_info": {
   "codemirror_mode": {
    "name": "ipython",
    "version": 3
   },
   "file_extension": ".py",
   "mimetype": "text/x-python",
   "name": "python",
   "nbconvert_exporter": "python",
   "pygments_lexer": "ipython3",
   "version": "3.8.8"
  }
 },
 "nbformat": 4,
 "nbformat_minor": 5
}
