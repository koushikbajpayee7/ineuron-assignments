{
 "cells": [
  {
   "cell_type": "markdown",
   "id": "4b74d50b",
   "metadata": {},
   "source": [
    "# Q1. What is the relationship between classes and modules?\n",
    "A module can have zero or one or multiple classes. A class can be implemented in one or more . py files (modules). But often, we can organize a set of variables and functions into a class definition or just simply put them in a "
   ]
  },
  {
   "cell_type": "markdown",
   "id": "4dc8e3be",
   "metadata": {},
   "source": [
    "# Q2. How do you make instances and classes?\n",
    "To create instances of a class, you call the class using class name and pass in whatever arguments its __init__ method accepts."
   ]
  },
  {
   "cell_type": "markdown",
   "id": "39d795a4",
   "metadata": {},
   "source": [
    "# Q3.Where and how should be class attributes created Python?\n",
    "Class attributes belong to the class itself they will be shared by all the instances. Such attributes are defined in the class body parts usually at the top, for legibility. Unlike class attributes, instance attributes are not shared by objects."
   ]
  },
  {
   "cell_type": "markdown",
   "id": "27548b2a",
   "metadata": {},
   "source": [
    "# Q4. Where and how are instance attributes created?\n",
    "An instance attribute is a Python variable belonging to one, and only one, object. This variable is only accessible in the scope of this object and it is defined inside the constructor function, __init__(self,..) of the class"
   ]
  },
  {
   "cell_type": "markdown",
   "id": "3099aba6",
   "metadata": {},
   "source": [
    "# Q5. What does the term \"self\" in a Python class mean?\n",
    "self represents the instance of the class. By using the “self”  we can access the attributes and methods of the class in python. It binds the attributes with the given arguments.\n",
    "The reason you need to use self. is because Python does not use the @ syntax to refer to instance attributes. Python decided to do methods in a way that makes the instance to which the method belongs be passed automatically, but not received automatically: the first parameter of methods is the instance the method is called on.\n",
    "\n",
    "In more clear way you can say that SELF has following Characteristic-\n",
    "\n",
    "Self is always pointing to Current Object.\n",
    "\n",
    "#it is clearly seen that self and obj is referring to the same object\n",
    "\n",
    "class check:\n",
    "\tdef __init__(self):\n",
    "\t\tprint(\"Address of self = \",id(self))\n",
    "\n",
    "obj = check()\n",
    "print(\"Address of class object = \",id(obj))\n",
    "\n",
    "\n"
   ]
  },
  {
   "cell_type": "markdown",
   "id": "9b4bf093",
   "metadata": {},
   "source": [
    "# Q6. How does a Python class handle operator overloading?\n",
    "Operator Overloading means giving extended meaning beyond their predefined operational meaning. For example operator + is used to add two integers as well as join two strings and merge two lists. It is achievable because '+' operator is overloaded by int class and str class."
   ]
  },
  {
   "cell_type": "markdown",
   "id": "036a4a3b",
   "metadata": {},
   "source": [
    "# Q7. When do you consider allowing operator overloading of your classes?\n",
    "#Operator Overloading means giving extended meaning beyond their predefined operational meaning. For example operator + is used to add two integers as well as join two strings and merge two lists. It is achievable because ‘+’ operator is overloaded by int class and str class. You might have noticed that the same built-in operator or function shows different behavior for objects of different classes, this is called Operator Overloading. \n",
    " \n",
    "\n",
    "\n",
    "#Python program to show use of\n",
    "#+ operator for different purposes.\n",
    " \n",
    "print(1 + 2)\n",
    " \n",
    "#concatenate two strings\n",
    "\n",
    "print(\"Geeks\"+\"For\")\n",
    " \n",
    "#Product two numbers\n",
    "\n",
    "print(3 * 4)\n",
    " \n",
    "#Repeat the String\n",
    "\n",
    "print(\"Geeks\"*4)"
   ]
  },
  {
   "cell_type": "markdown",
   "id": "d5650c58",
   "metadata": {},
   "source": [
    "# Q8. What is the most popular form of operator overloading?\n",
    "Operator overloading is the process of using an operator in different ways depending on the operands. You can change the way an operator in Python works on different data-types. A very popular and convenient example is the Addition (+) operator."
   ]
  },
  {
   "cell_type": "code",
   "execution_count": null,
   "id": "e1988ade",
   "metadata": {},
   "outputs": [],
   "source": [
    "Q9. What are the two most important concepts to grasp in order to comprehend Python OOP code?\n",
    "n this article, we will elaborate on two key concepts of OOP which are inheritance and polymorphism. Both inheritance and polymorphism are key ingredients for designing robust, flexible, and easy-to-maintain software."
   ]
  }
 ],
 "metadata": {
  "kernelspec": {
   "display_name": "Python 3",
   "language": "python",
   "name": "python3"
  },
  "language_info": {
   "codemirror_mode": {
    "name": "ipython",
    "version": 3
   },
   "file_extension": ".py",
   "mimetype": "text/x-python",
   "name": "python",
   "nbconvert_exporter": "python",
   "pygments_lexer": "ipython3",
   "version": "3.8.8"
  }
 },
 "nbformat": 4,
 "nbformat_minor": 5
}
