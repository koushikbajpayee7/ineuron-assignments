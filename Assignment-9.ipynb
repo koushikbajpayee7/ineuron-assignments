{
 "cells": [
  {
   "cell_type": "markdown",
   "id": "7287e45f",
   "metadata": {},
   "source": [
    "# 1. To what does a relative path refer?\n",
    "A relative path refers to a location that is relative to a current directory. Relative paths make use of two special symbols, a dot (.) and a double-dot (..), which translate into the current directory and the parent directory. Double dots are used for moving up in the hierarchy."
   ]
  },
  {
   "cell_type": "markdown",
   "id": "5a78dcfa",
   "metadata": {},
   "source": [
    "# 2. What does an absolute path start with your operating system?\n",
    "An absolute path refers to the complete details needed to locate a file or folder, starting from the root element and ending with the other subdirectories. Absolute paths are used in websites and operating systems for locating files and folders. An absolute path is also known as an absolute pathname or full path."
   ]
  },
  {
   "cell_type": "markdown",
   "id": "a11d1160",
   "metadata": {},
   "source": [
    "# 3. What do the functions os.getcwd() and os.chdir() do?\n",
    "os.chdir() method in Python used to change the current working directory to specified path. It takes only a single argument as new directory path.\n",
    "\n",
    "Syntax: os.chdir(path)\n",
    "\n",
    "os.getcwd() method tells us the location of current working directory (CWD).\n",
    "\n",
    "Syntax: os.getcwd()"
   ]
  },
  {
   "cell_type": "markdown",
   "id": "5cbfead9",
   "metadata": {},
   "source": [
    "# 5. In C:\\bacon\\eggs\\spam.txt, which part is the dir name, and which part is the base name?\n",
    "C:\\bacon\\eggs is the dir name, while spam. txt is the base name."
   ]
  },
  {
   "cell_type": "markdown",
   "id": "b9aee2b5",
   "metadata": {},
   "source": [
    "# 6. What are the three “mode” arguments that can be passed to the open() function?\n",
    "r : Opens the file in read-only mode. ...\n",
    "\n",
    "\n",
    "rb : Opens the file as read-only in binary format and starts reading from the beginning of the file. ...\n",
    "\n",
    "r+ : Opens a file for reading and writing, placing the pointer at the beginning of the file."
   ]
  },
  {
   "cell_type": "markdown",
   "id": "3f1361d8",
   "metadata": {},
   "source": [
    "# 7. What happens if an existing file is opened in write mode?\n",
    "To open a file in write mode, “w” is specified. When mode “w” is specified, it creates an empty file for output operations. What if the file already exists? If a file with the same name already exists, its contents are discarded and the file is treated as a new empty file."
   ]
  },
  {
   "cell_type": "markdown",
   "id": "df8bedcb",
   "metadata": {},
   "source": [
    "# 8. How do you tell the difference between read() and readlines()?\n",
    "The main difference is that read() will read the whole file at once and then print out the first characters that take up as many bytes as you specify in the parenthesis versus the readline() that will read and print out only the first characters that take up as many bytes as you specify in the parenthesis."
   ]
  },
  {
   "cell_type": "markdown",
   "id": "c0841a4c",
   "metadata": {},
   "source": [
    "# 9.What data structure does a shelf value resemble?\n",
    "A shelf value resembles a dictionary value; it has keys and values, along with keys() and values() methods that work similarly to the dictionary methods of the same names."
   ]
  },
  {
   "cell_type": "code",
   "execution_count": null,
   "id": "ea88b309",
   "metadata": {},
   "outputs": [],
   "source": []
  }
 ],
 "metadata": {
  "kernelspec": {
   "display_name": "Python 3",
   "language": "python",
   "name": "python3"
  },
  "language_info": {
   "codemirror_mode": {
    "name": "ipython",
    "version": 3
   },
   "file_extension": ".py",
   "mimetype": "text/x-python",
   "name": "python",
   "nbconvert_exporter": "python",
   "pygments_lexer": "ipython3",
   "version": "3.8.8"
  }
 },
 "nbformat": 4,
 "nbformat_minor": 5
}
