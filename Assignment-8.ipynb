{
 "cells": [
  {
   "cell_type": "markdown",
   "id": "647c12e5",
   "metadata": {},
   "source": [
    "# 1. Is the Python Standard Library included with PyInputPlus?\n",
    "No,PyInputPlus is a Python module used for taking inputs with additional validation features. PyInputPlus will keep asking the user for text until they enter valid input.\n",
    "\n",
    "Install the module via pip command :\n",
    "\n",
    "pip install PyInputPlus.\n",
    "\n",
    "ex:\n",
    "import pyinputplus as pyip\n",
    "\n",
    "#integer input with\n",
    "\n",
    "#limited number of tries\n",
    "\n",
    "inp = pyip.inputInt(prompt = \"Enter an Integer... \",\n",
    "\t\t\t\t\tdefault = 0, limit = 3)\n",
    "\n",
    "print(inp)\n"
   ]
  },
  {
   "cell_type": "markdown",
   "id": "62794c84",
   "metadata": {},
   "source": [
    "# 2. Why is PyInputPlus commonly imported with import pyinputplus as pypi?\n",
    "You can import the module with import pyinputplus as pyip so that you can enter a shorter name when calling the module's functions. PyInputPlus has functions for entering a variety of input, including strings, numbers, dates, yes/no, True/False, emails, and files."
   ]
  },
  {
   "cell_type": "markdown",
   "id": "94b04740",
   "metadata": {},
   "source": [
    "# 3. How do you distinguish between inputInt() and inputFloat()?\n",
    "The inputInt() function returns an integer, while the inputFloat() function returns a float value. The inputFloat() function returns an integer, while the inputInt() function returns a float. The inputInt() function returns an integer, while the inputFloat() function returns a string value."
   ]
  },
  {
   "cell_type": "markdown",
   "id": "b77522eb",
   "metadata": {},
   "source": [
    "# 6. If a blank input is entered three times, what does inputStr(limit=3) do?\n",
    "When you use these keyword arguments and also pass a default keyword argument, the function returns the default value instead of raising an exception. Enter the following into the interactive shell:\n",
    "\n",
    ">>> response = pyip.inputNum(limit=2, default='N/A')\n",
    "\n",
    "hello\n",
    "\n",
    "'hello' is not a number.\n",
    "\n",
    "world\n",
    "\n",
    "'world' is not a number.\n",
    "\n",
    ">>> response\n",
    "\n",
    "'N/A'"
   ]
  },
  {
   "cell_type": "markdown",
   "id": "512ea0ff",
   "metadata": {},
   "source": [
    "# "
   ]
  },
  {
   "cell_type": "code",
   "execution_count": 8,
   "id": "2be0b476",
   "metadata": {
    "scrolled": true
   },
   "outputs": [
    {
     "name": "stdout",
     "output_type": "stream",
     "text": [
      "Requirement already satisfied: PyInputPlus in c:\\users\\user\\anaconda3\\lib\\site-packages (0.2.8)\n",
      "Requirement already satisfied: stdiomask>=0.0.3 in c:\\users\\user\\anaconda3\\lib\\site-packages (from PyInputPlus) (0.0.5)\n",
      "Requirement already satisfied: pysimplevalidate>=0.2.7 in c:\\users\\user\\anaconda3\\lib\\site-packages (from PyInputPlus) (0.2.9)\n",
      "Note: you may need to restart the kernel to use updated packages.\n"
     ]
    }
   ],
   "source": [
    "pip install PyInputPlus"
   ]
  },
  {
   "cell_type": "markdown",
   "id": "85e7ef17",
   "metadata": {},
   "source": [
    "# 7. #If blank input is entered three times, what does inputStr(limit=3, default='hello') do?\n",
    ". It will throw RetryLimitException exception."
   ]
  },
  {
   "cell_type": "markdown",
   "id": "e945f14f",
   "metadata": {},
   "source": [
    "# "
   ]
  }
 ],
 "metadata": {
  "kernelspec": {
   "display_name": "Python 3",
   "language": "python",
   "name": "python3"
  },
  "language_info": {
   "codemirror_mode": {
    "name": "ipython",
    "version": 3
   },
   "file_extension": ".py",
   "mimetype": "text/x-python",
   "name": "python",
   "nbconvert_exporter": "python",
   "pygments_lexer": "ipython3",
   "version": "3.8.8"
  }
 },
 "nbformat": 4,
 "nbformat_minor": 5
}
