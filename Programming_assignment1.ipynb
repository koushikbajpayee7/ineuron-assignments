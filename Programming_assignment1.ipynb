{
 "cells": [
  {
   "cell_type": "code",
   "execution_count": null,
   "id": "1c77dd0f",
   "metadata": {},
   "outputs": [],
   "source": [
    "#1. Write a Python program to print \"Hello Python\"?\n",
    "a= 'hello python'\n",
    "print(a)"
   ]
  },
  {
   "cell_type": "code",
   "execution_count": null,
   "id": "8a75a4ed",
   "metadata": {},
   "outputs": [],
   "source": [
    "#2. Write a Python program to do arithmetical operations addition and division.?\n",
    "a= int(input('Enter the number:'))\n",
    "b= int(input('Enter the number:'))\n",
    "add=a+b\n",
    "div =a/b\n",
    "print('Addition is:',add)\n",
    "print('Division is:',div)\n"
   ]
  },
  {
   "cell_type": "code",
   "execution_count": null,
   "id": "9bb7807a",
   "metadata": {},
   "outputs": [],
   "source": [
    "#3. Write a Python program to find the area of a triangle?\n",
    "base= int(input('Enter the number:'))\n",
    "height=int(input('Enter the number:'))\n",
    "area = (1/2)*base*height\n",
    "print('area of the triangle:',area)"
   ]
  },
  {
   "cell_type": "code",
   "execution_count": 2,
   "id": "c6e4539f",
   "metadata": {},
   "outputs": [
    {
     "name": "stdout",
     "output_type": "stream",
     "text": [
      "Enter the  first number:5\n",
      "Enter the second number:6\n",
      "after swap first number is: 6\n",
      "after swap first number is: 5\n"
     ]
    }
   ],
   "source": [
    "#4. Write a Python program to swap two variables?\n",
    "a= int(input('Enter the  first number:'))\n",
    "b = int(input('Enter the second number:'))\n",
    "a,b = b,a\n",
    "print('after swap first number is:',a)\n",
    "print('after swap first number is:',b)"
   ]
  },
  {
   "cell_type": "code",
   "execution_count": 4,
   "id": "9cfc72ab",
   "metadata": {},
   "outputs": [
    {
     "name": "stdout",
     "output_type": "stream",
     "text": [
      "0.2765812124117334\n"
     ]
    }
   ],
   "source": [
    "#5. Write a Python program to generate a random number?\n",
    "import random\n",
    "n = random.random()\n",
    "print(n)"
   ]
  },
  {
   "cell_type": "code",
   "execution_count": null,
   "id": "9779a238",
   "metadata": {},
   "outputs": [],
   "source": []
  }
 ],
 "metadata": {
  "kernelspec": {
   "display_name": "Python 3 (ipykernel)",
   "language": "python",
   "name": "python3"
  },
  "language_info": {
   "codemirror_mode": {
    "name": "ipython",
    "version": 3
   },
   "file_extension": ".py",
   "mimetype": "text/x-python",
   "name": "python",
   "nbconvert_exporter": "python",
   "pygments_lexer": "ipython3",
   "version": "3.9.6"
  }
 },
 "nbformat": 4,
 "nbformat_minor": 5
}
