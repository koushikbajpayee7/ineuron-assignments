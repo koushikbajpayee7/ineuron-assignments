{
 "cells": [
  {
   "cell_type": "markdown",
   "id": "4bd82035",
   "metadata": {},
   "source": [
    "# 1. What are escape characters, and how do you use them?\n",
    "To insert characters that are illegal in a string, use an escape character.\n",
    "\n",
    "An escape character is a backslash \\ followed by the character you want to insert.\n",
    "\n",
    "An example of an illegal character is a double quote inside a string that is surrounded by double quotes:\n",
    "    \n",
    "    txt = \"We are the so-called \\\"Vikings\\\" from the north.\""
   ]
  },
  {
   "cell_type": "markdown",
   "id": "1d315a1c",
   "metadata": {},
   "source": [
    "# 2. What do the escape characters n and t stand for?\n",
    "\n",
    "\\n\tis used for New Line\n",
    "\n",
    "\\t is used for  Tab"
   ]
  },
  {
   "cell_type": "markdown",
   "id": "ebd80a14",
   "metadata": {},
   "source": [
    "# 3. What is the way to include backslash characters in a string?\n",
    "If you want to include a backslash character itself, you need two backslashes or use the @ verbatim string: var s = \"\\\\Tasks\"; // or var s = @\"\\Tasks\"; Read the MSDN documentation/C# Specification which discusses the characters that are escaped using the backslash character and the use of the verbatim string liter."
   ]
  },
  {
   "cell_type": "markdown",
   "id": "3b18a4cb",
   "metadata": {},
   "source": [
    "# 4. The string \"Howl's Moving Castle\"; is a correct value. Why isn't the single quote character in the word \"Howl's not escaped a problem?\n",
    "becasue the string starts and ends with double quote"
   ]
  },
  {
   "cell_type": "markdown",
   "id": "e5fc818c",
   "metadata": {},
   "source": [
    "# 5. How do you write a string of newlines if you don&#39;t want to use the n character?\n",
    "Just use \\n ; Python automatically translates that to the proper newline character for your platform."
   ]
  },
  {
   "cell_type": "markdown",
   "id": "64a5b8ba",
   "metadata": {},
   "source": [
    "# 6. What are the values of the given expressions?\n",
    "\"Hello, world!\"[1]       e\n",
    "\n",
    "\"Hello, world!\"[0:5]     'Hello'\n",
    "\n",
    "\"Hello, world!\"[:5]      'Hello'\n",
    "\n",
    "\"Hello, world!\"[3:]      'lo, world!'"
   ]
  },
  {
   "cell_type": "markdown",
   "id": "764cf731",
   "metadata": {},
   "source": [
    "# 7. What are the values of the following expressions?\n",
    "'Hello'.upper()                  'HELLO'\n",
    "\n",
    "'Hello'.upper().isupper()        True\n",
    "\n",
    "'Hello'.upper().lower()          'hello'"
   ]
  },
  {
   "cell_type": "markdown",
   "id": "ab716dbc",
   "metadata": {},
   "source": [
    "# 8. What are the values of the following expressions?\n",
    "The expressions evaluate to the following:\n",
    "\n",
    "['Remember,', 'remember,', 'the', 'fifth', 'of', 'November.']\n",
    "\n",
    "'There-can-be-only-one."
   ]
  },
  {
   "cell_type": "markdown",
   "id": "86837190",
   "metadata": {},
   "source": [
    "# 9. What are the methods for right-justifying, left-justifying, and centering a string?\n",
    "Syntax :\n",
    "center( len, fillchr )\n",
    "\n",
    "Parameters :\n",
    "len : The width of string to expand it.\n",
    "fillchr (optional): The character to fill in remaining space.\n",
    "\n",
    "Return Value :\n",
    "The resultant center aligned string expanding the given width.\n",
    "\n",
    "Syntax :\n",
    "ljust( len, fillchr )\n",
    "\n",
    "Parameters :\n",
    "len : The width of string to expand it.\n",
    "fillchr (optional): The character to fill in remaining space.\n",
    "\n",
    "Return Value :\n",
    "The resultant left aligned string expanding the given width.\n",
    "\n",
    "Syntax :\n",
    "rjust( len, fillchr )\n",
    "\n",
    "Parameters :\n",
    "len : The width of string to expand it.\n",
    "fillchr (optional) : The character to fill in remaining space.\n",
    "\n",
    "Return Value :\n",
    "The resultant right aligned string expanding the given width."
   ]
  },
  {
   "cell_type": "markdown",
   "id": "2eb13fa9",
   "metadata": {},
   "source": [
    "# 10. What is the best way to remove whitespace characters from the start or end?\n",
    "String. Trim() removes all whitespace from the beginning and end of a string."
   ]
  },
  {
   "cell_type": "code",
   "execution_count": null,
   "id": "44daaadf",
   "metadata": {},
   "outputs": [],
   "source": []
  }
 ],
 "metadata": {
  "kernelspec": {
   "display_name": "Python 3",
   "language": "python",
   "name": "python3"
  },
  "language_info": {
   "codemirror_mode": {
    "name": "ipython",
    "version": 3
   },
   "file_extension": ".py",
   "mimetype": "text/x-python",
   "name": "python",
   "nbconvert_exporter": "python",
   "pygments_lexer": "ipython3",
   "version": "3.8.8"
  }
 },
 "nbformat": 4,
 "nbformat_minor": 5
}
